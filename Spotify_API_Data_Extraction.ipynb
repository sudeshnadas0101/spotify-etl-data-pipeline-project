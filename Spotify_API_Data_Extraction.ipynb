{
 "cells": [
  {
   "cell_type": "code",
   "execution_count": null,
   "id": "67b7e720-c163-4100-931a-5a5b23d3a04d",
   "metadata": {},
   "outputs": [],
   "source": [
    "import json\n",
    "import spotipy\n",
    "from spotipy.oauth2 import SpotifyClientCredentials\n",
    "import os\n",
    "import boto3\n",
    "from datetime import datetime\n",
    "\n",
    "def lambda_handler(event, context):\n",
    "    client_id = os.environ.get('client_id')\n",
    "    client_secret = os.environ.get('client_secret')\n",
    "\n",
    "    cm = SpotifyClientCredentials(client_id=client_id,client_secret=client_secret)\n",
    "    sp =spotipy.Spotify(client_credentials_manager = cm)\n",
    "    # playlist_link = \"https://open.spotify.com/playlist/37i9dQZF1DX14CbVHtvHRB\" \n",
    "    # playlist_URI = playlist_link.split('/')[-1].split('?')[0]\n",
    "\n",
    "    playlist_URI='6VOedaf3eNWDOVpa9Qdlvg'\n",
    "    data = sp.playlist_tracks(playlist_URI)\n",
    "    \n",
    "    filename = \"spotify_raw_data_\" + str(datetime.now()) + \".json\"\n",
    "    client = boto3.client('s3')\n",
    "    client.put_object(\n",
    "        Bucket='spotify-etl-pipeline-sudeshna', \n",
    "        Key='raw_data/unprocessed_data/' + filename, \n",
    "        Body=json.dumps(data))\n",
    "\n",
    "    \n",
    "    \n"
   ]
  }
 ],
 "metadata": {
  "kernelspec": {
   "display_name": "Python 3 (ipykernel)",
   "language": "python",
   "name": "python3"
  },
  "language_info": {
   "codemirror_mode": {
    "name": "ipython",
    "version": 3
   },
   "file_extension": ".py",
   "mimetype": "text/x-python",
   "name": "python",
   "nbconvert_exporter": "python",
   "pygments_lexer": "ipython3",
   "version": "3.12.4"
  }
 },
 "nbformat": 4,
 "nbformat_minor": 5
}
